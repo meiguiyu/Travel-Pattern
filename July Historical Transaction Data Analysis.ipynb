{
 "cells": [
  {
   "cell_type": "markdown",
   "metadata": {},
   "source": [
    "July dataset:\n",
    "a.     the correlation between cost of trip and trip profile (length, time of day, mileage, station, etc)\n",
    "\n",
    "b.     the correlation of trip profiles and membership plan types\n",
    "\n",
    "c.     how many trips are taken at each time interval at each location\n",
    "\n"
   ]
  },
  {
   "cell_type": "code",
   "execution_count": 84,
   "metadata": {
    "collapsed": false
   },
   "outputs": [],
   "source": [
    "import numpy as np        # linear algebra\n",
    "import pandas as pd       # data processing, CSV file I/O (e.g. pd.read_csv())\n",
    "import matplotlib.pyplot as plt  # data visualization\n",
    "import seaborn as sns       # data visualization\n",
    "color = sns.color_palette()\n",
    "sns.set_style('whitegrid')"
   ]
  },
  {
   "cell_type": "code",
   "execution_count": 85,
   "metadata": {
    "collapsed": false
   },
   "outputs": [
    {
     "name": "stdout",
     "output_type": "stream",
     "text": [
      "Loading train_2016 dataset...\n",
      "Train_2016 dataset shape: \n",
      "(1881, 42)\n",
      "The first few rows of train_2016 dataset : \n",
      "   Reservation Number  Company number  Title ZIP Code                 Vehicle  \\\n",
      "0            132895.0             NaN    NaN    55404  23: Blue Honda Element   \n",
      "1            132921.0             NaN    NaN    55101        22: Red Scion xD   \n",
      "2            132924.0             NaN    NaN    55404  23: Blue Honda Element   \n",
      "3            132568.0             NaN    NaN    55403    45: Red Toyota Prius   \n",
      "4            132926.0             NaN    NaN    55102    33: Silver Honda Fit   \n",
      "\n",
      "  License Plate                             Location  \\\n",
      "0       848 BTD                                 MCAD   \n",
      "1       771 BVH        Lowertown - 7th St E and Wall   \n",
      "2       848 BTD                                 MCAD   \n",
      "3       005 LTB               Nicollet and Groveland   \n",
      "4       863 HVT  Mississippi Market - Selby and Dale   \n",
      "\n",
      "                            City   Category Reservation Made (UTC)  ...   \\\n",
      "0             Minneapolis - MCAD  Hatchback    2017-06-30 21:56:09  ...    \n",
      "1          Saint Paul - Downtown  Hatchback    2017-07-01 07:01:16  ...    \n",
      "2             Minneapolis - MCAD  Hatchback    2017-07-01 10:36:42  ...    \n",
      "3  Minneapolis - Franklin Avenue  Hatchback    2017-06-27 11:21:27  ...    \n",
      "4       Saint Paul - East Summit  Hatchback    2017-07-01 12:29:10  ...    \n",
      "\n",
      "  Book-Check off Type of insurance Insurance Name Tariff Engine  \\\n",
      "0             No      No insurance            NaN   Unit Tariff   \n",
      "1             No      No insurance            NaN   Unit Tariff   \n",
      "2             No      No insurance            NaN   Unit Tariff   \n",
      "3             No      No insurance            NaN   Unit Tariff   \n",
      "4             No      No insurance            NaN   Unit Tariff   \n",
      "\n",
      "             Customer Tariff        Vehicle Tariff   Total   Time Cost  \\\n",
      "0  Neighborhood Monthly Plan  HOURCAR Fleet Tariff  17.7375     7.9375   \n",
      "1               Freedom Plan  HOURCAR Fleet Tariff   4.2500     2.2500   \n",
      "2               Student Plan  HOURCAR Fleet Tariff   3.2500     3.2500   \n",
      "3        Voyager Annual Plan  HOURCAR Fleet Tariff  12.7500    12.7500   \n",
      "4               Freedom Plan  HOURCAR Fleet Tariff  23.0000    16.0000   \n",
      "\n",
      "   Mileage cost  Fees  \n",
      "0           9.8   0.0  \n",
      "1           2.0   0.0  \n",
      "2           0.0   0.0  \n",
      "3           0.0   0.0  \n",
      "4           7.0   0.0  \n",
      "\n",
      "[5 rows x 42 columns]\n",
      "Summary of train_2016 dataset : \n",
      "       Reservation Number  Company number  Title          mi.  \\\n",
      "count         1869.000000             0.0    0.0  1881.000000   \n",
      "mean        134094.968967             NaN    NaN    25.892079   \n",
      "std            910.150775             NaN    NaN    52.888306   \n",
      "min         123712.000000             NaN    NaN     0.000000   \n",
      "25%         133441.000000             NaN    NaN     5.000000   \n",
      "50%         134130.000000             NaN    NaN    14.000000   \n",
      "75%         134792.000000             NaN    NaN    28.000000   \n",
      "max         135488.000000             NaN    NaN   829.000000   \n",
      "\n",
      "       Odometer trip start  Odometer trip end  Fuel level at trip end  \\\n",
      "count          1804.000000        1804.000000                     0.0   \n",
      "mean          44164.282705       44191.277716                     NaN   \n",
      "std           38190.877203       38189.537963                     NaN   \n",
      "min           16284.000000       16291.000000                     NaN   \n",
      "25%           31305.750000       31316.000000                     NaN   \n",
      "50%           37677.500000       37679.500000                     NaN   \n",
      "75%           52715.000000       52741.750000                     NaN   \n",
      "max          643067.000000      643107.000000                     NaN   \n",
      "\n",
      "       Destination  Trip Mileage   Insurance Name       Total     Time Cost  \\\n",
      "count          0.0    1881.000000             0.0  1533.000000  1533.000000   \n",
      "mean           NaN      24.639022             NaN    28.048146    25.210005   \n",
      "std            NaN      52.682721             NaN    32.414763    26.533271   \n",
      "min            NaN       0.000000             NaN    -0.005000     0.000000   \n",
      "25%            NaN       4.000000             NaN    12.000000    10.625000   \n",
      "50%            NaN      12.000000             NaN    19.125000    18.000000   \n",
      "75%            NaN      27.000000             NaN    32.000000    29.750000   \n",
      "max            NaN     829.000000             NaN   350.400000   280.000000   \n",
      "\n",
      "       Mileage cost         Fees  \n",
      "count   1533.000000  1533.000000  \n",
      "mean       2.216569     0.829987  \n",
      "std        9.607417     4.258470  \n",
      "min        0.000000   -19.130000  \n",
      "25%        0.000000     0.000000  \n",
      "50%        0.000000     0.000000  \n",
      "75%        0.000000     0.000000  \n",
      "max      220.150000    60.000000  \n",
      "The ratio of missing values in each column : \n",
      "Reservation Number          0.006380\n",
      "Company number              1.000000\n",
      "Title                       1.000000\n",
      "ZIP Code                    0.007443\n",
      "Vehicle                     0.000000\n",
      "License Plate               0.000000\n",
      "Location                    0.000000\n",
      "City                        0.000000\n",
      "Category                    0.000000\n",
      "Reservation Made (UTC)      0.006380\n",
      "Usage Start (Local time)    0.000000\n",
      "Usage Start (UTC time)      0.000000\n",
      "Usage Until (Local time)    0.000000\n",
      "Usage Until (UTC time)      0.000000\n",
      "Time Zone                   0.000000\n",
      "Reservation From            0.006380\n",
      "Reservation Until           0.006380\n",
      "mi.                         0.000000\n",
      "Odometer trip start         0.040936\n",
      "Odometer trip end           0.040936\n",
      "Fuel level at trip end      1.000000\n",
      "Reservation Type            0.006380\n",
      "Cost-free                   0.006380\n",
      "Service Reservation         0.006380\n",
      "Ridesharing available       0.006380\n",
      "Destination                 1.000000\n",
      "Last changed by             0.000000\n",
      "Canceled                    0.000000\n",
      "Trip Start                  0.039872\n",
      "Trip End                    0.039872\n",
      "Trip Mileage                0.000000\n",
      "Emergency trip              0.000000\n",
      "Book-Check off              0.000000\n",
      "Type of insurance           0.006380\n",
      "Insurance Name              1.000000\n",
      "Tariff Engine               0.137161\n",
      "Customer Tariff             0.137161\n",
      "Vehicle Tariff              0.137161\n",
      "Total                       0.185008\n",
      "Time Cost                   0.185008\n",
      "Mileage cost                0.185008\n",
      "Fees                        0.185008\n",
      "dtype: float64\n"
     ]
    }
   ],
   "source": [
    "xls = pd.ExcelFile(\"July.xls\")\n",
    "\n",
    "train_df = xls.parse('Usages') #2 is the sheet number\n",
    "train_df = pd.DataFrame(train_df)\n",
    "\n",
    "print('Loading train_2016 dataset...')\n",
    "print('Train_2016 dataset shape: ')\n",
    "print(train_df.shape)\n",
    "print('The first few rows of train_2016 dataset : ')\n",
    "print(train_df.head())\n",
    "print('Summary of train_2016 dataset : ')\n",
    "print(train_df.describe())\n",
    "train_df_null = train_df.isnull().sum()\n",
    "print('The ratio of missing values in each column : ')  \n",
    "print(train_df_null/train_df.shape[0])\n"
   ]
  },
  {
   "cell_type": "code",
   "execution_count": 86,
   "metadata": {
    "collapsed": false
   },
   "outputs": [
    {
     "name": "stdout",
     "output_type": "stream",
     "text": [
      "Reservation Number                 float64\n",
      "Company number                     float64\n",
      "Title                              float64\n",
      "ZIP Code                            object\n",
      "Vehicle                             object\n",
      "License Plate                       object\n",
      "Location                            object\n",
      "City                                object\n",
      "Category                            object\n",
      "Reservation Made (UTC)      datetime64[ns]\n",
      "Usage Start (Local time)    datetime64[ns]\n",
      "Usage Start (UTC time)      datetime64[ns]\n",
      "Usage Until (Local time)    datetime64[ns]\n",
      "Usage Until (UTC time)      datetime64[ns]\n",
      "Time Zone                           object\n",
      "Reservation From            datetime64[ns]\n",
      "Reservation Until           datetime64[ns]\n",
      "mi.                                  int64\n",
      "Odometer trip start                float64\n",
      "Odometer trip end                  float64\n",
      "Fuel level at trip end             float64\n",
      "Reservation Type                    object\n",
      "Cost-free                           object\n",
      "Service Reservation                 object\n",
      "Ridesharing available               object\n",
      "Destination                        float64\n",
      "Last changed by                     object\n",
      "Canceled                            object\n",
      "Trip Start                  datetime64[ns]\n",
      "Trip End                    datetime64[ns]\n",
      "Trip Mileage                         int64\n",
      "Emergency trip                      object\n",
      "Book-Check off                      object\n",
      "Type of insurance                   object\n",
      "Insurance Name                     float64\n",
      "Tariff Engine                       object\n",
      "Customer Tariff                     object\n",
      "Vehicle Tariff                      object\n",
      "Total                              float64\n",
      "Time Cost                          float64\n",
      "Mileage cost                       float64\n",
      "Fees                               float64\n",
      "dtype: object\n"
     ]
    }
   ],
   "source": [
    "print(train_df.dtypes)\n",
    "train_df['Membership_types'] = train_df['Customer Tariff']\n",
    "Membership_types = train_df['Membership_types']\n",
    "Time_Cost = train_df['Time Cost']\n",
    "Fees = train_df['Fees']\n",
    "Mileage_cost = train_df['Mileage cost']\n",
    "train_df['Total_cost'] = Time_Cost + Fees + Mileage_cost\n",
    "Total_cost = train_df['Total_cost']"
   ]
  },
  {
   "cell_type": "code",
   "execution_count": 87,
   "metadata": {
    "collapsed": false
   },
   "outputs": [
    {
     "data": {
      "image/png": "[encoded data removed]",
      "text/plain": [
       "<matplotlib.figure.Figure at 0xc7e1c88>"
      ]
     },
     "metadata": {},
     "output_type": "display_data"
    }
   ],
   "source": [
    "## now let's do some visualizaion on the training dataset\n",
    "plt.scatter(range(train_df.shape[0]), np.sort(train_df.Total_cost.values))\n",
    "plt.xlabel('Index', fontsize=12)\n",
    "plt.ylabel('Total_cost', fontsize=12)\n",
    "plt.show()"
   ]
  },
  {
   "cell_type": "code",
   "execution_count": 88,
   "metadata": {
    "collapsed": false
   },
   "outputs": [],
   "source": [
    "# Rename the columns\n",
    "train_df['ZIP_Code'] = train_df['ZIP Code']\n",
    "train_df['Reservation_made_time'] = train_df['Reservation Made (UTC)']\n",
    "train_df['Reservation_From'] = train_df['Reservation From']\n",
    "train_df['Reservation_Until'] = train_df['Reservation Until']\n",
    "train_df['Reservation_length'] = train_df['Reservation_Until'] - train_df['Reservation_From'] \n",
    "train_df['Trip_Start'] = train_df['Trip Start']\n",
    "train_df['Trip_End'] = train_df['Trip End']\n",
    "train_df['Trip_length'] = train_df['Trip_End'] - train_df['Trip_Start']\n",
    "train_df['Trip_Mileage']  = train_df['Trip Mileage ']\n",
    "\n",
    "\n",
    "train_df['Usage_end_time'] = train_df['Usage Until (Local time)']"
   ]
  },
  {
   "cell_type": "code",
   "execution_count": 89,
   "metadata": {
    "collapsed": false
   },
   "outputs": [
    {
     "name": "stdout",
     "output_type": "stream",
     "text": [
      "Total_cost               348\n",
      "Membership_types         258\n",
      "ZIP_Code                  14\n",
      "Reservation_made_time     12\n",
      "Reservation_length        12\n",
      "Trip_length               75\n",
      "Trip_Mileage               0\n",
      "City                       0\n",
      "Location                   0\n",
      "Reservation_From          12\n",
      "Reservation_Until         12\n",
      "Usage_end_time             0\n",
      "dtype: int64\n",
      "Total_cost               0\n",
      "Membership_types         0\n",
      "ZIP_Code                 0\n",
      "Reservation_made_time    0\n",
      "Reservation_length       0\n",
      "Trip_length              0\n",
      "Trip_Mileage             0\n",
      "City                     0\n",
      "Location                 0\n",
      "Reservation_From         0\n",
      "Reservation_Until        0\n",
      "Usage_end_time           0\n",
      "dtype: int64\n"
     ]
    }
   ],
   "source": [
    "columns = ['Total_cost', 'Membership_types','ZIP_Code','Reservation_made_time','Reservation_length','Trip_length', 'Trip_Mileage','City','Location','Reservation_From','Reservation_Until','Usage_end_time']\n",
    "train_july = pd.DataFrame(train_df, columns=columns)\n",
    "train_july_null = train_july.isnull().sum()\n",
    "print(train_july_null)\n",
    "train_july = train_july.dropna()\n",
    "train_july_null = train_july.isnull().sum()\n",
    "print(train_july_null)\n",
    "# new_train.head()"
   ]
  },
  {
   "cell_type": "code",
   "execution_count": 90,
   "metadata": {
    "collapsed": false
   },
   "outputs": [],
   "source": [
    "ZIP_Code = train_july['ZIP_Code']\n",
    "City = train_july['City']\n",
    "Location = train_july['Location']\n",
    "Reservation_made_time = train_july['Reservation_made_time']\n",
    "Reservation_From = train_july['Reservation_From']\n",
    "Reservation_Until = train_df['Reservation_Until']\n",
    "Usage_end_time = train_df['Usage_end_time']\n"
   ]
  },
  {
   "cell_type": "code",
   "execution_count": 91,
   "metadata": {
    "collapsed": false
   },
   "outputs": [
    {
     "data": {
      "text/plain": [
       "0      2017-06-30 21:56:09\n",
       "1      2017-07-01 07:01:16\n",
       "2      2017-07-01 10:36:42\n",
       "3      2017-06-27 11:21:27\n",
       "4      2017-07-01 12:29:10\n",
       "5      2017-07-01 13:34:58\n",
       "6      2017-07-01 14:30:55\n",
       "7      2017-06-27 17:59:55\n",
       "8      2017-06-30 20:47:08\n",
       "9      2017-06-30 19:56:13\n",
       "10     2017-07-01 16:15:42\n",
       "11     2017-07-01 16:28:39\n",
       "12     2017-07-01 15:31:10\n",
       "13     2017-07-01 02:49:28\n",
       "14     2017-07-01 13:04:52\n",
       "15     2017-07-01 17:03:11\n",
       "16     2017-07-01 17:01:52\n",
       "19     2017-07-01 16:22:35\n",
       "20     2017-07-01 18:36:52\n",
       "21     2017-07-01 04:46:42\n",
       "22     2017-07-01 14:10:06\n",
       "23     2017-07-01 17:33:49\n",
       "24     2017-07-01 16:46:16\n",
       "25     2017-07-01 15:23:45\n",
       "26     2017-06-30 16:04:44\n",
       "27     2017-07-01 17:48:09\n",
       "28     2017-07-01 18:16:51\n",
       "29     2017-06-30 19:06:31\n",
       "30     2017-07-01 05:03:27\n",
       "31     2017-07-01 17:44:59\n",
       "               ...        \n",
       "1844   2017-07-29 00:12:51\n",
       "1847   2017-07-30 21:18:01\n",
       "1848   2017-07-26 20:28:15\n",
       "1849   2017-07-29 20:49:57\n",
       "1850   2017-07-30 21:32:49\n",
       "1851   2017-07-30 19:36:23\n",
       "1853   2017-07-30 16:55:05\n",
       "1854   2017-07-30 20:13:24\n",
       "1855   2017-07-30 21:48:55\n",
       "1857   2017-07-30 22:24:56\n",
       "1858   2017-07-30 23:11:11\n",
       "1859   2017-07-30 17:44:46\n",
       "1860   2017-07-30 22:03:07\n",
       "1861   2017-07-31 00:17:28\n",
       "1862   2017-07-31 00:52:15\n",
       "1863   2017-07-30 17:33:47\n",
       "1864   2017-07-31 00:01:04\n",
       "1865   2017-07-30 17:47:01\n",
       "1867   2017-07-31 00:57:04\n",
       "1868   2017-07-31 02:18:26\n",
       "1869   2017-07-31 02:06:39\n",
       "1870   2017-04-03 13:24:07\n",
       "1871   2017-07-31 02:28:37\n",
       "1873   2017-07-31 02:42:27\n",
       "1874   2017-07-31 03:10:10\n",
       "1875   2017-07-31 03:22:27\n",
       "1876   2017-07-28 05:23:47\n",
       "1877   2017-07-25 18:08:25\n",
       "1878   2017-07-30 14:49:24\n",
       "1879   2017-07-30 21:36:04\n",
       "Name: Reservation_made_time, dtype: datetime64[ns]"
      ]
     },
     "execution_count": 91,
     "metadata": {},
     "output_type": "execute_result"
    }
   ],
   "source": [
    "train_df.dtypes\n",
    "pd.to_datetime(Reservation_made_time)\n",
    "\n"
   ]
  },
  {
   "cell_type": "code",
   "execution_count": 92,
   "metadata": {
    "collapsed": false
   },
   "outputs": [
    {
     "data": {
      "text/plain": [
       "0      2017-06-30 23:45:00\n",
       "1      2017-07-01 02:30:00\n",
       "2      2017-07-01 05:45:00\n",
       "3      2017-07-01 07:30:00\n",
       "4      2017-07-01 08:00:00\n",
       "5      2017-07-01 09:00:00\n",
       "6      2017-07-01 09:30:00\n",
       "7      2017-07-01 08:45:00\n",
       "8      2017-07-01 11:00:00\n",
       "9      2017-07-01 10:00:00\n",
       "10     2017-07-01 11:15:00\n",
       "11     2017-07-01 12:00:00\n",
       "12     2017-07-01 10:45:00\n",
       "13     2017-07-01 10:00:00\n",
       "14     2017-07-01 10:30:00\n",
       "15     2017-07-01 12:30:00\n",
       "16     2017-07-01 12:15:00\n",
       "19     2017-07-01 12:15:00\n",
       "20     2017-07-01 13:45:00\n",
       "21     2017-07-01 11:00:00\n",
       "22     2017-07-01 11:15:00\n",
       "23     2017-07-01 12:30:00\n",
       "24     2017-07-01 12:00:00\n",
       "25     2017-07-01 12:00:00\n",
       "26     2017-07-01 10:30:00\n",
       "27     2017-07-01 13:00:00\n",
       "28     2017-07-01 14:15:00\n",
       "29     2017-07-01 15:00:00\n",
       "30     2017-07-01 12:00:00\n",
       "31     2017-07-01 13:30:00\n",
       "               ...        \n",
       "1844   2017-07-30 16:45:00\n",
       "1847   2017-07-30 16:15:00\n",
       "1848   2017-07-30 11:00:00\n",
       "1849   2017-07-30 14:30:00\n",
       "1850   2017-07-30 17:00:00\n",
       "1851   2017-07-30 16:15:00\n",
       "1853   2017-07-30 17:30:00\n",
       "1854   2017-07-30 15:30:00\n",
       "1855   2017-07-30 17:15:00\n",
       "1857   2017-07-30 17:45:00\n",
       "1858   2017-07-30 18:15:00\n",
       "1859   2017-07-30 17:00:00\n",
       "1860   2017-07-30 18:15:00\n",
       "1861   2017-07-30 19:30:00\n",
       "1862   2017-07-30 20:15:00\n",
       "1863   2017-07-30 16:15:00\n",
       "1864   2017-07-30 19:00:00\n",
       "1865   2017-07-30 14:30:00\n",
       "1867   2017-07-30 20:00:00\n",
       "1868   2017-07-30 21:30:00\n",
       "1869   2017-07-30 21:30:00\n",
       "1870   2017-07-30 06:00:00\n",
       "1871   2017-07-30 21:45:00\n",
       "1873   2017-07-30 22:00:00\n",
       "1874   2017-07-30 22:15:00\n",
       "1875   2017-07-30 22:45:00\n",
       "1876   2017-07-30 07:00:00\n",
       "1877   2017-07-30 09:30:00\n",
       "1878   2017-07-30 12:00:00\n",
       "1879   2017-07-30 17:00:00\n",
       "Name: Reservation_From, dtype: datetime64[ns]"
      ]
     },
     "execution_count": 92,
     "metadata": {},
     "output_type": "execute_result"
    }
   ],
   "source": [
    "\n",
    "pd.to_datetime(Reservation_From)\n"
   ]
  },
  {
   "cell_type": "code",
   "execution_count": 93,
   "metadata": {
    "collapsed": false
   },
   "outputs": [
    {
     "data": {
      "text/plain": [
       "0      2017-07-01 01:15:00\n",
       "1      2017-07-01 03:15:00\n",
       "2      2017-07-01 06:15:00\n",
       "3      2017-07-01 09:00:00\n",
       "4      2017-07-01 10:00:00\n",
       "5      2017-07-01 10:15:00\n",
       "6      2017-07-01 11:00:00\n",
       "7      2017-07-01 11:15:00\n",
       "8      2017-07-01 12:00:00\n",
       "9      2017-07-01 12:30:00\n",
       "10     2017-07-01 12:30:00\n",
       "11     2017-07-01 12:30:00\n",
       "12     2017-07-01 12:45:00\n",
       "13     2017-07-01 13:15:00\n",
       "14     2017-07-01 13:15:00\n",
       "15     2017-07-01 13:45:00\n",
       "16     2017-07-01 14:00:00\n",
       "17     2017-07-01 14:15:00\n",
       "18     2017-07-01 14:15:00\n",
       "19     2017-07-01 14:15:00\n",
       "20     2017-07-01 14:15:00\n",
       "21     2017-07-01 14:30:00\n",
       "22     2017-07-01 14:30:00\n",
       "23     2017-07-01 14:30:00\n",
       "24     2017-07-01 15:00:00\n",
       "25     2017-07-01 15:45:00\n",
       "26     2017-07-01 16:00:00\n",
       "27     2017-07-01 16:00:00\n",
       "28     2017-07-01 16:15:00\n",
       "29     2017-07-01 17:00:00\n",
       "               ...        \n",
       "1851   2017-07-30 18:30:00\n",
       "1852   2017-07-30 18:30:00\n",
       "1853   2017-07-30 19:00:00\n",
       "1854   2017-07-30 19:00:00\n",
       "1855   2017-07-30 19:00:00\n",
       "1856   2017-07-30 19:15:00\n",
       "1857   2017-07-30 19:15:00\n",
       "1858   2017-07-30 19:30:00\n",
       "1859   2017-07-30 20:00:00\n",
       "1860   2017-07-30 20:15:00\n",
       "1861   2017-07-30 20:15:00\n",
       "1862   2017-07-30 21:00:00\n",
       "1863   2017-07-30 21:15:00\n",
       "1864   2017-07-30 21:30:00\n",
       "1865   2017-07-30 21:45:00\n",
       "1866   2017-07-30 21:45:00\n",
       "1867   2017-07-30 21:45:00\n",
       "1868   2017-07-30 22:15:00\n",
       "1869   2017-07-30 22:30:00\n",
       "1870   2017-07-30 23:00:00\n",
       "1871   2017-07-30 23:00:00\n",
       "1872   2017-07-30 23:00:00\n",
       "1873   2017-07-30 23:00:00\n",
       "1874   2017-07-30 23:45:00\n",
       "1875   2017-07-30 23:45:00\n",
       "1876   2017-07-31 07:00:00\n",
       "1877   2017-07-31 09:30:00\n",
       "1878   2017-07-31 12:00:00\n",
       "1879   2017-07-31 17:00:00\n",
       "1880   2017-08-08 18:00:00\n",
       "Name: Usage_end_time, dtype: datetime64[ns]"
      ]
     },
     "execution_count": 93,
     "metadata": {},
     "output_type": "execute_result"
    }
   ],
   "source": [
    "# pd.to_datetime(Reservation_Until)\n",
    "pd.to_datetime(Usage_end_time)"
   ]
  },
  {
   "cell_type": "code",
   "execution_count": 94,
   "metadata": {
    "collapsed": false
   },
   "outputs": [],
   "source": [
    "train_july['Reservation_Made_time'],train_july['Reservation_Made_Date']= Reservation_made_time.apply(lambda x:x.time()), Reservation_made_time.apply(lambda x:x.date())\n",
    "# print(train_july['Reservation_Made_time'])\n",
    "# print(train_july['Reserved_Date'])"
   ]
  },
  {
   "cell_type": "code",
   "execution_count": 95,
   "metadata": {
    "collapsed": false
   },
   "outputs": [],
   "source": [
    "train_july['Reservation_From_Time'],train_july['Reservation_From_Date']= Reservation_From.apply(lambda x:x.time()), Reservation_From.apply(lambda x:x.date())"
   ]
  },
  {
   "cell_type": "code",
   "execution_count": 96,
   "metadata": {
    "collapsed": false
   },
   "outputs": [
    {
     "name": "stdout",
     "output_type": "stream",
     "text": [
      "0      0 days 01:30:00\n",
      "1      0 days 00:45:00\n",
      "2      0 days 00:30:00\n",
      "3      0 days 01:30:00\n",
      "4      0 days 02:00:00\n",
      "5      0 days 01:15:00\n",
      "6      0 days 01:30:00\n",
      "7      0 days 02:30:00\n",
      "8      0 days 01:00:00\n",
      "9      0 days 02:30:00\n",
      "10     0 days 01:15:00\n",
      "11     0 days 00:30:00\n",
      "12     0 days 02:00:00\n",
      "13     0 days 03:15:00\n",
      "14     0 days 02:45:00\n",
      "15     0 days 01:15:00\n",
      "16     0 days 01:45:00\n",
      "17                 NaT\n",
      "18                 NaT\n",
      "19     0 days 02:00:00\n",
      "20     0 days 00:30:00\n",
      "21     0 days 03:30:00\n",
      "22     0 days 03:15:00\n",
      "23     0 days 02:00:00\n",
      "24     0 days 03:00:00\n",
      "25     0 days 03:15:00\n",
      "26     0 days 05:30:00\n",
      "27     0 days 03:00:00\n",
      "28     0 days 02:00:00\n",
      "29     0 days 02:00:00\n",
      "             ...      \n",
      "1851   0 days 02:15:00\n",
      "1852               NaT\n",
      "1853   0 days 01:30:00\n",
      "1854   0 days 03:30:00\n",
      "1855   0 days 01:45:00\n",
      "1856               NaT\n",
      "1857   0 days 01:30:00\n",
      "1858   0 days 01:00:00\n",
      "1859   0 days 03:00:00\n",
      "1860   0 days 02:00:00\n",
      "1861   0 days 00:45:00\n",
      "1862   0 days 00:45:00\n",
      "1863   0 days 05:00:00\n",
      "1864   0 days 02:30:00\n",
      "1865   0 days 07:15:00\n",
      "1866               NaT\n",
      "1867   0 days 01:45:00\n",
      "1868   0 days 00:45:00\n",
      "1869   0 days 01:00:00\n",
      "1870   0 days 17:00:00\n",
      "1871   0 days 01:15:00\n",
      "1872               NaT\n",
      "1873   0 days 01:00:00\n",
      "1874   0 days 01:30:00\n",
      "1875   0 days 01:00:00\n",
      "1876   1 days 00:00:00\n",
      "1877   1 days 00:00:00\n",
      "1878   1 days 00:00:00\n",
      "1879   1 days 00:00:00\n",
      "1880               NaT\n",
      "dtype: timedelta64[ns]\n",
      "0      0 days 01:30:00\n",
      "1      0 days 00:45:00\n",
      "2      0 days 00:30:00\n",
      "3      0 days 01:30:00\n",
      "4      0 days 02:00:00\n",
      "5      0 days 01:15:00\n",
      "6      0 days 01:30:00\n",
      "7      0 days 02:30:00\n",
      "8      0 days 01:00:00\n",
      "9      0 days 02:30:00\n",
      "10     0 days 01:15:00\n",
      "11     0 days 00:30:00\n",
      "12     0 days 02:00:00\n",
      "13     0 days 03:15:00\n",
      "14     0 days 02:45:00\n",
      "15     0 days 01:15:00\n",
      "16     0 days 01:45:00\n",
      "19     0 days 02:00:00\n",
      "20     0 days 00:30:00\n",
      "21     0 days 03:30:00\n",
      "22     0 days 03:15:00\n",
      "23     0 days 02:00:00\n",
      "24     0 days 03:00:00\n",
      "25     0 days 03:15:00\n",
      "26     0 days 05:30:00\n",
      "27     0 days 03:00:00\n",
      "28     0 days 02:00:00\n",
      "29     0 days 02:00:00\n",
      "30     0 days 05:00:00\n",
      "31     0 days 03:30:00\n",
      "             ...      \n",
      "1844   0 days 00:45:00\n",
      "1847   0 days 01:30:00\n",
      "1848   0 days 07:00:00\n",
      "1849   0 days 03:30:00\n",
      "1850   0 days 01:15:00\n",
      "1851   0 days 02:15:00\n",
      "1853   0 days 01:30:00\n",
      "1854   0 days 03:30:00\n",
      "1855   0 days 01:45:00\n",
      "1857   0 days 01:30:00\n",
      "1858   0 days 01:00:00\n",
      "1859   0 days 03:00:00\n",
      "1860   0 days 02:00:00\n",
      "1861   0 days 00:45:00\n",
      "1862   0 days 00:45:00\n",
      "1863   0 days 05:00:00\n",
      "1864   0 days 02:30:00\n",
      "1865   0 days 07:15:00\n",
      "1867   0 days 01:45:00\n",
      "1868   0 days 00:45:00\n",
      "1869   0 days 01:00:00\n",
      "1870   0 days 17:00:00\n",
      "1871   0 days 01:15:00\n",
      "1873   0 days 01:00:00\n",
      "1874   0 days 01:30:00\n",
      "1875   0 days 01:00:00\n",
      "1876   1 days 00:00:00\n",
      "1877   1 days 00:00:00\n",
      "1878   1 days 00:00:00\n",
      "1879   1 days 00:00:00\n",
      "dtype: timedelta64[ns]\n"
     ]
    }
   ],
   "source": [
    "difference = Reservation_Until - Reservation_From\n",
    "print(difference)\n",
    "difference = difference.dropna()\n",
    "print(difference)\n"
   ]
  },
  {
   "cell_type": "code",
   "execution_count": 97,
   "metadata": {
    "collapsed": false
   },
   "outputs": [
    {
     "name": "stdout",
     "output_type": "stream",
     "text": [
      "Total_cost                       float64\n",
      "Membership_types                  object\n",
      "ZIP_Code                          object\n",
      "Reservation_made_time     datetime64[ns]\n",
      "Reservation_length       timedelta64[ns]\n",
      "Trip_length              timedelta64[ns]\n",
      "Trip_Mileage                       int64\n",
      "City                              object\n",
      "Location                          object\n",
      "Reservation_From          datetime64[ns]\n",
      "Reservation_Until         datetime64[ns]\n",
      "Usage_end_time            datetime64[ns]\n",
      "Reservation_Made_time             object\n",
      "Reservation_Made_Date             object\n",
      "Reservation_From_Time             object\n",
      "Reservation_From_Date             object\n",
      "Usage_End_Time                    object\n",
      "Usage_End_Date                    object\n",
      "dtype: object\n"
     ]
    }
   ],
   "source": [
    "# train_july['Reservation_Until_Time'],train_july['Reservation_Until_Date']= Reservation_Until.apply(lambda x:x.time()), Reservation_Until.apply(lambda x:x.date())\n",
    "train_july['Usage_End_Time'],train_july['Usage_End_Date']= Usage_end_time.apply(lambda x:x.time()), Usage_end_time.apply(lambda x:x.date())\n",
    "print(train_july.dtypes)"
   ]
  },
  {
   "cell_type": "code",
   "execution_count": 99,
   "metadata": {
    "collapsed": false
   },
   "outputs": [
    {
     "name": "stdout",
     "output_type": "stream",
     "text": [
      "Total_cost                       float64\n",
      "Membership_types                  object\n",
      "ZIP_Code                          object\n",
      "Reservation_made_time     datetime64[ns]\n",
      "Reservation_length       timedelta64[ns]\n",
      "Trip_length              timedelta64[ns]\n",
      "Trip_Mileage                       int64\n",
      "City                              object\n",
      "Location                          object\n",
      "Reservation_From          datetime64[ns]\n",
      "Reservation_Until         datetime64[ns]\n",
      "Usage_end_time            datetime64[ns]\n",
      "Reservation_Made_time             object\n",
      "Reservation_Made_Date             object\n",
      "Reservation_From_Time             object\n",
      "Reservation_From_Date             object\n",
      "Usage_End_Time                    object\n",
      "Usage_End_Date                    object\n",
      "dtype: object\n"
     ]
    },
    {
     "ename": "TypeError",
     "evalue": "unsupported type for timedelta days component: Series",
     "output_type": "error",
     "traceback": [
      "\u001b[1;31m---------------------------------------------------------------------------\u001b[0m",
      "\u001b[1;31mTypeError\u001b[0m                                 Traceback (most recent call last)",
      "\u001b[1;32m<ipython-input-99-d73c8c5b3f83>\u001b[0m in \u001b[0;36m<module>\u001b[1;34m()\u001b[0m\n\u001b[0;32m      7\u001b[0m \u001b[1;33m\u001b[0m\u001b[0m\n\u001b[0;32m      8\u001b[0m \u001b[1;32mimport\u001b[0m \u001b[0mdatetime\u001b[0m \u001b[1;32mas\u001b[0m \u001b[0mdt\u001b[0m\u001b[1;33m\u001b[0m\u001b[0m\n\u001b[1;32m----> 9\u001b[1;33m \u001b[0mdt\u001b[0m\u001b[1;33m.\u001b[0m\u001b[0mtimedelta\u001b[0m\u001b[1;33m(\u001b[0m\u001b[0mReservation_From_Time\u001b[0m\u001b[1;33m)\u001b[0m\u001b[1;33m\u001b[0m\u001b[0m\n\u001b[0m\u001b[0;32m     10\u001b[0m \u001b[1;33m\u001b[0m\u001b[0m\n",
      "\u001b[1;31mTypeError\u001b[0m: unsupported type for timedelta days component: Series"
     ]
    }
   ],
   "source": [
    "Reservation_From_Time = train_july['Reservation_From_Time']\n",
    "Reservation_From_Date = train_july['Reservation_From_Date']\n",
    "Usage_End_Time= train_july['Usage_End_Time']\n",
    "Usage_End_Date = train_july['Usage_End_Date']\n",
    "\n",
    "print(train_july.dtypes)\n",
    "\n",
    "import datetime as dt\n",
    "dt.timedelta(Reservation_From_Time)\n",
    "\n"
   ]
  },
  {
   "cell_type": "code",
   "execution_count": null,
   "metadata": {
    "collapsed": true
   },
   "outputs": [],
   "source": [
    "Trip_time = train_july['Usage_End_Time'] - train_july['Reservation_From_Time']\n",
    "Trip_day = train_july['Usage_End_Date'] - train_july['Reservation_From_Date']\n",
    "train_july['Reservation_length'] = Trip_day * 3600 + Trip_time.item().total_seconds()\n",
    "Reservation_length = train_july['Reservation_length'] "
   ]
  },
  {
   "cell_type": "code",
   "execution_count": null,
   "metadata": {
    "collapsed": false
   },
   "outputs": [],
   "source": [
    "print(Reservation_length)\n",
    "# print(Trip_length)\n",
    "# print(difference) # pay attention to these customers, their actual used time is greater than their reserved time"
   ]
  },
  {
   "cell_type": "code",
   "execution_count": null,
   "metadata": {
    "collapsed": false
   },
   "outputs": [],
   "source": [
    "# same for trip start and trip end\n",
    "Trip_length = train_july['Trip_length']\n",
    "Trip_Mileage  = train_july['Trip_Mileage']\n",
    "difference = Reservation_length - Trip_length"
   ]
  },
  {
   "cell_type": "code",
   "execution_count": null,
   "metadata": {
    "collapsed": false
   },
   "outputs": [],
   "source": [
    "# When people prefer to make a reservation on line\n",
    "plt.scatter(range(train_july.shape[0]), np.sort(train_july['Reservation_Made_time']))\n",
    "plt.xlabel('Index', fontsize=12)\n",
    "plt.ylabel('Reservation_Made_time', fontsize=12)\n",
    "plt.show()\n",
    "# People prefer to make reservation after work, specially from 17:00pm to 12:00pm\n",
    "# So maybe more promotions can be put for this specific time period, also more \n",
    "# customer support can be support to help customers reservations"
   ]
  },
  {
   "cell_type": "code",
   "execution_count": null,
   "metadata": {
    "collapsed": false
   },
   "outputs": [],
   "source": [
    "plt.scatter(range(train_july.shape[0]), np.sort(train_july['Reservation_From_Time']))\n",
    "plt.xlabel('Index', fontsize=12)\n",
    "plt.ylabel('Reservation_From_Time', fontsize=12)\n",
    "plt.show()\n",
    "# customers prefer to use the car between 12:00pm and 12:00am"
   ]
  },
  {
   "cell_type": "code",
   "execution_count": null,
   "metadata": {
    "collapsed": false
   },
   "outputs": [],
   "source": [
    "sns.regplot(x='Reservation_length',y='Total_cost', fit_reg=True,  data=train_july)\n",
    "plt.xlabel(\"Reservation_length\")\n",
    "plt.ylabel(\"Total_cost\")\n",
    "plt.title(\"The association between N-Reservation_length and Total_cost\")\n",
    "plt.show()\n"
   ]
  },
  {
   "cell_type": "code",
   "execution_count": null,
   "metadata": {
    "collapsed": false
   },
   "outputs": [],
   "source": [
    "sns.regplot(x='Trip_Mileage',y='Total_cost', fit_reg=True,  data=train_july)\n",
    "plt.xlabel(\"Trip_Mileage\")\n",
    "plt.ylabel(\"Total_cost\")\n",
    "plt.title(\"The association between N-Trip_Mileage and Total_cost\")\n",
    "plt.show()"
   ]
  },
  {
   "cell_type": "code",
   "execution_count": null,
   "metadata": {
    "collapsed": false
   },
   "outputs": [],
   "source": [
    "sns.countplot(x='Membership_types', data=train_july)\n",
    "plt.xticks(rotation=70)\n",
    "plt.xlabel('Membership_types')\n",
    "plt.title('Membership_types')\n",
    "plt.show()"
   ]
  },
  {
   "cell_type": "code",
   "execution_count": null,
   "metadata": {
    "collapsed": true
   },
   "outputs": [],
   "source": [
    "sns.factorplot(x='Reservation_length', y='Membership_types',data=train_july, kind='bar',ci=None)\n",
    "plt.xlabel('Reservation_length')\n",
    "plt.ylabel('Membership_types')\n",
    "plt.title('The relationship between Reservation_length and Membership_types')\n",
    "plt.show()"
   ]
  },
  {
   "cell_type": "code",
   "execution_count": null,
   "metadata": {
    "collapsed": false
   },
   "outputs": [],
   "source": [
    "sns.factorplot(x='Trip_Mileage', y='Membership_types',data=train_july, kind='bar',ci=None)\n",
    "plt.xlabel('Trip_Mileage')\n",
    "plt.ylabel('Membership_types')\n",
    "plt.title('The relationship between Trip_Mileage and Membership_types')\n",
    "plt.show()"
   ]
  },
  {
   "cell_type": "code",
   "execution_count": null,
   "metadata": {
    "collapsed": true
   },
   "outputs": [],
   "source": [
    "# explore location and city\n"
   ]
  }
 ],
 "metadata": {
  "anaconda-cloud": {},
  "kernelspec": {
   "display_name": "Python [conda env:gl-env]",
   "language": "python",
   "name": "conda-env-gl-env-py"
  },
  "language_info": {
   "codemirror_mode": {
    "name": "ipython",
    "version": 2
   },
   "file_extension": ".py",
   "mimetype": "text/x-python",
   "name": "python",
   "nbconvert_exporter": "python",
   "pygments_lexer": "ipython2",
   "version": "2.7.11"
  }
 },
 "nbformat": 4,
 "nbformat_minor": 1
}
